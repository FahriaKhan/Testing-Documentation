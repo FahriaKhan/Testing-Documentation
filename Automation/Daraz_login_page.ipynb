{
 "cells": [
  {
   "cell_type": "code",
   "execution_count": 7,
   "id": "1f033aab",
   "metadata": {},
   "outputs": [],
   "source": [
    "from selenium import webdriver\n",
    "import time\n",
    "from selenium.webdriver.common.keys import Keys\n",
    "from selenium.webdriver.common.by import By\n",
    "from selenium.webdriver.chrome.service import Service\n",
    "from selenium.common.exceptions import NoSuchElementException\n",
    "\n",
    "#initialize Firefox\n",
    "driver = webdriver.Firefox(executable_path = 'C:\\\\webdrive\\\\geckodriver.exe')"
   ]
  },
  {
   "cell_type": "code",
   "execution_count": 8,
   "id": "0d1d6e93",
   "metadata": {},
   "outputs": [],
   "source": [
    "#open website\n",
    "driver.get('https://www.daraz.com.bd/')"
   ]
  },
  {
   "cell_type": "code",
   "execution_count": 9,
   "id": "e15c65c7",
   "metadata": {},
   "outputs": [
    {
     "name": "stdout",
     "output_type": "stream",
     "text": [
      "<selenium.webdriver.firefox.webelement.FirefoxWebElement (session=\"e949c677-62c7-42b6-a629-bbf2d9300a3f\", element=\"2d9acfed-57f3-4d98-a1ab-c54e5b455430\")>\n"
     ]
    }
   ],
   "source": [
    "#locate an element by Link Text Login\n",
    "try:\n",
    "    element_by_link_login_text = driver.find_element(By.LINK_TEXT, \"Login\")\n",
    "    print(element_by_link_login_text)\n",
    "    \n",
    "except NoSuchElementException as e:\n",
    "    print(f\"Element not found: {e}\")"
   ]
  },
  {
   "cell_type": "code",
   "execution_count": 10,
   "id": "1091858b",
   "metadata": {},
   "outputs": [
    {
     "name": "stdout",
     "output_type": "stream",
     "text": [
      "None\n"
     ]
    }
   ],
   "source": [
    "#locate an element by Link Text Login\n",
    "try:\n",
    "    element_by_link_login_text = driver.find_element(By.LINK_TEXT, \"Login\").click()\n",
    "    print(element_by_link_login_text)\n",
    "    \n",
    "except NoSuchElementException as e:\n",
    "    print(f\"Element not found: {e}\")"
   ]
  },
  {
   "cell_type": "code",
   "execution_count": 11,
   "id": "d217ee55",
   "metadata": {},
   "outputs": [
    {
     "name": "stdout",
     "output_type": "stream",
     "text": [
      "<selenium.webdriver.firefox.webelement.FirefoxWebElement (session=\"e949c677-62c7-42b6-a629-bbf2d9300a3f\", element=\"1abe2ba4-e212-4ad4-9a9b-71c121829c42\")>\n"
     ]
    }
   ],
   "source": [
    "#locate an element by absolute XPath for PhoneNumber\n",
    "try:\n",
    "    element_by_xpath_phoneNumberOrEmail = driver.find_element(By.XPATH, \"html/body/div[2]/div[1]/div[2]/div[1]/div[2]/form[1]/div[1]/div[1]//input\")\n",
    "    print(element_by_xpath_phoneNumberOrEmail)\n",
    "    \n",
    "except NoSuchElementException as e:\n",
    "    print(f\"Element not found: {e}\")"
   ]
  },
  {
   "cell_type": "code",
   "execution_count": 12,
   "id": "6936584c",
   "metadata": {},
   "outputs": [
    {
     "name": "stdout",
     "output_type": "stream",
     "text": [
      "None\n"
     ]
    }
   ],
   "source": [
    "#locate an element by absolute xpath Login\n",
    "try:\n",
    "    element_by_xpath_phoneNumberOrEmail = driver.find_element(By.XPATH, \"html/body/div[2]/div[1]/div[2]/div[1]/div[2]/form[1]/div[1]/div[1]//input\").send_keys(\"01554477428\")\n",
    "    print(element_by_xpath_phoneNumberOrEmail)\n",
    "    \n",
    "except NoSuchElementException as e:\n",
    "    print(f\"Element not found: {e}\")"
   ]
  },
  {
   "cell_type": "code",
   "execution_count": 13,
   "id": "d873559b",
   "metadata": {},
   "outputs": [
    {
     "name": "stdout",
     "output_type": "stream",
     "text": [
      "<selenium.webdriver.firefox.webelement.FirefoxWebElement (session=\"e949c677-62c7-42b6-a629-bbf2d9300a3f\", element=\"640b4c5a-4fd2-4e14-8a93-02c1f9908edc\")>\n"
     ]
    }
   ],
   "source": [
    "#locate an element by relative XPath for Password\n",
    "try:\n",
    "    element_by_xpath_password = driver.find_element(By.XPATH, \"//input[@type='password']\")\n",
    "    print(element_by_xpath_password)\n",
    "    \n",
    "except NoSuchElementException as e:\n",
    "    print(f\"Element not found: {e}\")"
   ]
  },
  {
   "cell_type": "code",
   "execution_count": 14,
   "id": "b926f800",
   "metadata": {},
   "outputs": [
    {
     "name": "stdout",
     "output_type": "stream",
     "text": [
      "None\n"
     ]
    }
   ],
   "source": [
    "#locate an element by relative xpath for password\n",
    "try:\n",
    "    element_by_xpath_password = driver.find_element(By.XPATH, \"//input[@type='password']\").send_keys(\"N0155ity\")\n",
    "    print(element_by_xpath_password)\n",
    "    \n",
    "except NoSuchElementException as e:\n",
    "    print(f\"Element not found: {e}\")"
   ]
  },
  {
   "cell_type": "code",
   "execution_count": 15,
   "id": "380d0a6e",
   "metadata": {},
   "outputs": [
    {
     "name": "stdout",
     "output_type": "stream",
     "text": [
      "<selenium.webdriver.firefox.webelement.FirefoxWebElement (session=\"e949c677-62c7-42b6-a629-bbf2d9300a3f\", element=\"bbda6e38-14bd-4ca5-931a-b9a70b9888e9\")>\n"
     ]
    }
   ],
   "source": [
    "#locate an element by xpath Login button\n",
    "try:\n",
    "    element_by_xpath_login_button = driver.find_element(By.XPATH, \"//button[@type='submit']\")\n",
    "    print(element_by_xpath_login_button)\n",
    "    \n",
    "except NoSuchElementException as e:\n",
    "    print(f\"Element not found: {e}\")"
   ]
  },
  {
   "cell_type": "code",
   "execution_count": 16,
   "id": "95636141",
   "metadata": {},
   "outputs": [
    {
     "name": "stdout",
     "output_type": "stream",
     "text": [
      "None\n"
     ]
    }
   ],
   "source": [
    "#locate an element by xpath Login button\n",
    "try:\n",
    "    element_by_xpath_login_button = driver.find_element(By.XPATH, \"//button[@type='submit']\").click()\n",
    "    print(element_by_xpath_login_button)\n",
    "    \n",
    "except NoSuchElementException as e:\n",
    "    print(f\"Element not found: {e}\")"
   ]
  },
  {
   "cell_type": "code",
   "execution_count": 17,
   "id": "3913688f",
   "metadata": {},
   "outputs": [],
   "source": [
    "driver.close()"
   ]
  },
  {
   "cell_type": "code",
   "execution_count": null,
   "id": "2484cde3",
   "metadata": {},
   "outputs": [],
   "source": []
  }
 ],
 "metadata": {
  "kernelspec": {
   "display_name": "Python 3 (ipykernel)",
   "language": "python",
   "name": "python3"
  },
  "language_info": {
   "codemirror_mode": {
    "name": "ipython",
    "version": 3
   },
   "file_extension": ".py",
   "mimetype": "text/x-python",
   "name": "python",
   "nbconvert_exporter": "python",
   "pygments_lexer": "ipython3",
   "version": "3.11.4"
  }
 },
 "nbformat": 4,
 "nbformat_minor": 5
}
