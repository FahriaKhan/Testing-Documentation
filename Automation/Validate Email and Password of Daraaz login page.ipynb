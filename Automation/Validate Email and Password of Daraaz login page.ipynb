{
 "cells": [
  {
   "cell_type": "code",
   "execution_count": 16,
   "id": "184bcec9",
   "metadata": {},
   "outputs": [],
   "source": [
    "from selenium import webdriver\n",
    "import time\n",
    "from selenium.webdriver.common.keys import Keys\n",
    "from selenium.webdriver.common.by import By\n",
    "from selenium.webdriver.chrome.service import Service\n",
    "from selenium.common.exceptions import NoSuchElementException\n",
    "\n",
    "#initialize Firefox\n",
    "driver = webdriver.Firefox(executable_path = 'C:\\\\webdrive\\\\geckodriver.exe')"
   ]
  },
  {
   "cell_type": "code",
   "execution_count": 17,
   "id": "abfa4091",
   "metadata": {},
   "outputs": [],
   "source": [
    "#open website\n",
    "driver.get('https://www.daraz.com.bd/')"
   ]
  },
  {
   "cell_type": "code",
   "execution_count": 18,
   "id": "93e07a7c",
   "metadata": {},
   "outputs": [
    {
     "name": "stdout",
     "output_type": "stream",
     "text": [
      "None\n"
     ]
    }
   ],
   "source": [
    "#locate an element by Link Text Login\n",
    "try:\n",
    "    element_by_link_login_text = driver.find_element(By.LINK_TEXT, \"Login\").click()\n",
    "    print(element_by_link_login_text)\n",
    "    \n",
    "except NoSuchElementException as e:\n",
    "    print(f\"Element not found: {e}\")"
   ]
  },
  {
   "cell_type": "code",
   "execution_count": null,
   "id": "d549eee2",
   "metadata": {},
   "outputs": [],
   "source": []
  },
  {
   "cell_type": "code",
   "execution_count": null,
   "id": "e4c67af7",
   "metadata": {},
   "outputs": [],
   "source": []
  },
  {
   "cell_type": "markdown",
   "id": "f2db59f6",
   "metadata": {},
   "source": [
    "# Validation with blank input"
   ]
  },
  {
   "cell_type": "code",
   "execution_count": 19,
   "id": "67b042fb",
   "metadata": {},
   "outputs": [
    {
     "name": "stdout",
     "output_type": "stream",
     "text": [
      "None\n"
     ]
    }
   ],
   "source": [
    "#locate an element by absolute xpath Login\n",
    "try:\n",
    "    element_by_xpath_phoneNumberOrEmail = driver.find_element(By.XPATH, \"html/body/div[2]/div[1]/div[2]/div[1]/div[2]/form[1]/div[1]/div[1]//input\").send_keys(\"\")\n",
    "    print(element_by_xpath_phoneNumberOrEmail)\n",
    "    \n",
    "except NoSuchElementException as e:\n",
    "    print(f\"Element not found: {e}\")"
   ]
  },
  {
   "cell_type": "code",
   "execution_count": 20,
   "id": "b2e07e10",
   "metadata": {},
   "outputs": [
    {
     "name": "stdout",
     "output_type": "stream",
     "text": [
      "None\n"
     ]
    }
   ],
   "source": [
    "#locate an element by relative xpath for password\n",
    "try:\n",
    "    element_by_xpath_password = driver.find_element(By.XPATH, \"//input[@type='password']\").send_keys(\"\")\n",
    "    print(element_by_xpath_password)\n",
    "    \n",
    "except NoSuchElementException as e:\n",
    "    print(f\"Element not found: {e}\")"
   ]
  },
  {
   "cell_type": "code",
   "execution_count": 21,
   "id": "ea17023e",
   "metadata": {},
   "outputs": [
    {
     "name": "stdout",
     "output_type": "stream",
     "text": [
      "None\n"
     ]
    }
   ],
   "source": [
    "#locate an element by xpath Login button\n",
    "try:\n",
    "    element_by_xpath_login_button = driver.find_element(By.XPATH, \"//button[@type='submit']\").click()\n",
    "    print(element_by_xpath_login_button)\n",
    "    \n",
    "except NoSuchElementException as e:\n",
    "    print(f\"Element not found: {e}\")"
   ]
  },
  {
   "cell_type": "code",
   "execution_count": null,
   "id": "5349ca98",
   "metadata": {},
   "outputs": [],
   "source": []
  },
  {
   "cell_type": "code",
   "execution_count": null,
   "id": "fc974b61",
   "metadata": {},
   "outputs": [],
   "source": []
  },
  {
   "cell_type": "markdown",
   "id": "5b3f1431",
   "metadata": {},
   "source": [
    "# Validation02 (Email: asd & Password: 12345)"
   ]
  },
  {
   "cell_type": "code",
   "execution_count": 22,
   "id": "1daa5183",
   "metadata": {},
   "outputs": [
    {
     "name": "stdout",
     "output_type": "stream",
     "text": [
      "None\n"
     ]
    }
   ],
   "source": [
    "#locate an element by absolute xpath Login\n",
    "try:\n",
    "    element_by_xpath_phoneNumberOrEmail = driver.find_element(By.XPATH, \"html/body/div[2]/div[1]/div[2]/div[1]/div[2]/form[1]/div[1]/div[1]//input\").send_keys(\"asd\")\n",
    "    print(element_by_xpath_phoneNumberOrEmail)\n",
    "    \n",
    "except NoSuchElementException as e:\n",
    "    print(f\"Element not found: {e}\")"
   ]
  },
  {
   "cell_type": "code",
   "execution_count": 23,
   "id": "ff1dfa99",
   "metadata": {},
   "outputs": [
    {
     "name": "stdout",
     "output_type": "stream",
     "text": [
      "None\n"
     ]
    }
   ],
   "source": [
    "#locate an element by relative xpath for password\n",
    "try:\n",
    "    element_by_xpath_password = driver.find_element(By.XPATH, \"//input[@type='password']\").send_keys(\"12345\")\n",
    "    print(element_by_xpath_password)\n",
    "    \n",
    "except NoSuchElementException as e:\n",
    "    print(f\"Element not found: {e}\")"
   ]
  },
  {
   "cell_type": "code",
   "execution_count": 24,
   "id": "468825d3",
   "metadata": {},
   "outputs": [
    {
     "name": "stdout",
     "output_type": "stream",
     "text": [
      "None\n"
     ]
    }
   ],
   "source": [
    "#locate an element by xpath Login button\n",
    "try:\n",
    "    element_by_xpath_login_button = driver.find_element(By.XPATH, \"//button[@type='submit']\").click()\n",
    "    print(element_by_xpath_login_button)\n",
    "    \n",
    "except NoSuchElementException as e:\n",
    "    print(f\"Element not found: {e}\")"
   ]
  },
  {
   "cell_type": "code",
   "execution_count": 15,
   "id": "072c625d",
   "metadata": {},
   "outputs": [],
   "source": [
    "driver.close()"
   ]
  },
  {
   "cell_type": "code",
   "execution_count": null,
   "id": "99d810ce",
   "metadata": {},
   "outputs": [],
   "source": []
  },
  {
   "cell_type": "code",
   "execution_count": null,
   "id": "20e8ba1b",
   "metadata": {},
   "outputs": [],
   "source": []
  },
  {
   "cell_type": "markdown",
   "id": "2799dd1e",
   "metadata": {},
   "source": [
    "# Validation03 (Email: asd@ & Password with 51 character)"
   ]
  },
  {
   "cell_type": "code",
   "execution_count": 25,
   "id": "2b1a1d62",
   "metadata": {},
   "outputs": [
    {
     "name": "stdout",
     "output_type": "stream",
     "text": [
      "None\n"
     ]
    }
   ],
   "source": [
    "#locate an element by absolute xpath Login\n",
    "try:\n",
    "    element_by_xpath_phoneNumberOrEmail = driver.find_element(By.XPATH, \"html/body/div[2]/div[1]/div[2]/div[1]/div[2]/form[1]/div[1]/div[1]//input\").send_keys(\"asd@\")\n",
    "    print(element_by_xpath_phoneNumberOrEmail)\n",
    "    \n",
    "except NoSuchElementException as e:\n",
    "    print(f\"Element not found: {e}\")"
   ]
  },
  {
   "cell_type": "code",
   "execution_count": 26,
   "id": "92c73e44",
   "metadata": {},
   "outputs": [
    {
     "name": "stdout",
     "output_type": "stream",
     "text": [
      "None\n"
     ]
    }
   ],
   "source": [
    "#locate an element by relative xpath for password\n",
    "try:\n",
    "    element_by_xpath_password = driver.find_element(By.XPATH, \"//input[@type='password']\").send_keys(\"***123poiuytrewqQQQ456lkjhgfdsaLLL789mnbvcxzAAA2#$%\")\n",
    "    print(element_by_xpath_password)\n",
    "    \n",
    "except NoSuchElementException as e:\n",
    "    print(f\"Element not found: {e}\")"
   ]
  },
  {
   "cell_type": "code",
   "execution_count": 27,
   "id": "67806198",
   "metadata": {},
   "outputs": [
    {
     "name": "stdout",
     "output_type": "stream",
     "text": [
      "None\n"
     ]
    }
   ],
   "source": [
    "#locate an element by xpath Login button\n",
    "try:\n",
    "    element_by_xpath_login_button = driver.find_element(By.XPATH, \"//button[@type='submit']\").click()\n",
    "    print(element_by_xpath_login_button)\n",
    "    \n",
    "except NoSuchElementException as e:\n",
    "    print(f\"Element not found: {e}\")"
   ]
  },
  {
   "cell_type": "code",
   "execution_count": 22,
   "id": "42379073",
   "metadata": {},
   "outputs": [],
   "source": [
    "driver.close()"
   ]
  },
  {
   "cell_type": "code",
   "execution_count": null,
   "id": "a51fb7b8",
   "metadata": {},
   "outputs": [],
   "source": []
  },
  {
   "cell_type": "code",
   "execution_count": null,
   "id": "1c945a6b",
   "metadata": {},
   "outputs": [],
   "source": []
  },
  {
   "cell_type": "markdown",
   "id": "975ce08a",
   "metadata": {},
   "source": [
    "# Validation04 (Email: asd@gmail.com & Password with 15 characters)"
   ]
  },
  {
   "cell_type": "code",
   "execution_count": 28,
   "id": "60899c59",
   "metadata": {},
   "outputs": [
    {
     "name": "stdout",
     "output_type": "stream",
     "text": [
      "None\n"
     ]
    }
   ],
   "source": [
    "#locate an element by absolute xpath Login\n",
    "try:\n",
    "    element_by_xpath_phoneNumberOrEmail = driver.find_element(By.XPATH, \"html/body/div[2]/div[1]/div[2]/div[1]/div[2]/form[1]/div[1]/div[1]//input\").send_keys(\"asd@gmail.com\")\n",
    "    print(element_by_xpath_phoneNumberOrEmail)\n",
    "    \n",
    "except NoSuchElementException as e:\n",
    "    print(f\"Element not found: {e}\")"
   ]
  },
  {
   "cell_type": "code",
   "execution_count": 29,
   "id": "ab3127de",
   "metadata": {},
   "outputs": [
    {
     "name": "stdout",
     "output_type": "stream",
     "text": [
      "None\n"
     ]
    }
   ],
   "source": [
    "#locate an element by relative xpath for password\n",
    "try:\n",
    "    element_by_xpath_password = driver.find_element(By.XPATH, \"//input[@type='password']\").send_keys(\"6to60Characters\")\n",
    "    print(element_by_xpath_password)\n",
    "    \n",
    "except NoSuchElementException as e:\n",
    "    print(f\"Element not found: {e}\")"
   ]
  },
  {
   "cell_type": "code",
   "execution_count": 30,
   "id": "711a3f4d",
   "metadata": {},
   "outputs": [
    {
     "name": "stdout",
     "output_type": "stream",
     "text": [
      "None\n"
     ]
    }
   ],
   "source": [
    "#locate an element by xpath Login button\n",
    "try:\n",
    "    element_by_xpath_login_button = driver.find_element(By.XPATH, \"//button[@type='submit']\").click()\n",
    "    print(element_by_xpath_login_button)\n",
    "    \n",
    "except NoSuchElementException as e:\n",
    "    print(f\"Element not found: {e}\")"
   ]
  },
  {
   "cell_type": "code",
   "execution_count": 31,
   "id": "1f38d7ba",
   "metadata": {},
   "outputs": [],
   "source": [
    "driver.close()"
   ]
  },
  {
   "cell_type": "code",
   "execution_count": null,
   "id": "4dd449d7",
   "metadata": {},
   "outputs": [],
   "source": []
  }
 ],
 "metadata": {
  "kernelspec": {
   "display_name": "Python 3 (ipykernel)",
   "language": "python",
   "name": "python3"
  },
  "language_info": {
   "codemirror_mode": {
    "name": "ipython",
    "version": 3
   },
   "file_extension": ".py",
   "mimetype": "text/x-python",
   "name": "python",
   "nbconvert_exporter": "python",
   "pygments_lexer": "ipython3",
   "version": "3.11.4"
  }
 },
 "nbformat": 4,
 "nbformat_minor": 5
}
