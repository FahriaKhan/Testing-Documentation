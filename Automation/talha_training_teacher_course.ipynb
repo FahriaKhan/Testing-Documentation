{
 "cells": [
  {
   "cell_type": "code",
   "execution_count": 1,
   "id": "be1fe4f4",
   "metadata": {},
   "outputs": [],
   "source": [
    "from selenium import webdriver\n",
    "import time\n",
    "from selenium.webdriver.common.keys import Keys\n",
    "from selenium.webdriver.common.by import By\n",
    "from selenium.webdriver.chrome.service import Service\n",
    "from selenium.common.exceptions import NoSuchElementException\n",
    "from selenium.webdriver.common.action_chains import ActionChains\n",
    "from selenium.webdriver.support.ui import Select\n",
    "\n",
    "#initialize Firefox\n",
    "driver = webdriver.Firefox(executable_path = 'C:\\\\webdrive\\\\geckodriver.exe')"
   ]
  },
  {
   "cell_type": "code",
   "execution_count": 2,
   "id": "6205c59a",
   "metadata": {},
   "outputs": [],
   "source": [
    "# open website\n",
    "driver.get('https://old.talhatraining.com/')"
   ]
  },
  {
   "cell_type": "code",
   "execution_count": 3,
   "id": "5bdaa01b",
   "metadata": {},
   "outputs": [
    {
     "name": "stdout",
     "output_type": "stream",
     "text": [
      "Element not found: Message: Unable to locate element: [name=\"person_sign_in_email\"]\n",
      "\n"
     ]
    }
   ],
   "source": [
    "try:\n",
    "    person_sign_in_email = driver.find_element(By.NAME, \"person_sign_in_email\").send_keys(\"learner@talhatraining.com\")\n",
    "    #print(person_sign_in_email)\n",
    "    \n",
    "except NoSuchElementException as e:\n",
    "    print(f\"Element not found: {e}\")"
   ]
  },
  {
   "cell_type": "code",
   "execution_count": 4,
   "id": "d768c3f0",
   "metadata": {},
   "outputs": [
    {
     "name": "stdout",
     "output_type": "stream",
     "text": [
      "Element not found: Message: Unable to locate element: [name=\"person_sign_in_password\"]\n",
      "\n"
     ]
    }
   ],
   "source": [
    "try:\n",
    "    person_sign_in_password = driver.find_element(By.NAME, \"person_sign_in_password\").send_keys(\"Sqa.2023June\")\n",
    "    #print(person_sign_in_password)\n",
    "    \n",
    "except NoSuchElementException as e:\n",
    "    print(f\"Element not found: {e}\")"
   ]
  },
  {
   "cell_type": "code",
   "execution_count": 5,
   "id": "8feaf21a",
   "metadata": {},
   "outputs": [
    {
     "ename": "NoSuchElementException",
     "evalue": "Message: Unable to locate element: [id=\"formID2\"]\n",
     "output_type": "error",
     "traceback": [
      "\u001b[1;31m---------------------------------------------------------------------------\u001b[0m",
      "\u001b[1;31mNoSuchElementException\u001b[0m                    Traceback (most recent call last)",
      "Cell \u001b[1;32mIn[5], line 1\u001b[0m\n\u001b[1;32m----> 1\u001b[0m driver\u001b[38;5;241m.\u001b[39mfind_element_by_id(\u001b[38;5;124m\"\u001b[39m\u001b[38;5;124mformID2\u001b[39m\u001b[38;5;124m\"\u001b[39m)\u001b[38;5;241m.\u001b[39msubmit()\n",
      "File \u001b[1;32m~\\anaconda3\\Lib\\site-packages\\selenium\\webdriver\\remote\\webdriver.py:360\u001b[0m, in \u001b[0;36mWebDriver.find_element_by_id\u001b[1;34m(self, id_)\u001b[0m\n\u001b[0;32m    345\u001b[0m \u001b[38;5;28;01mdef\u001b[39;00m \u001b[38;5;21mfind_element_by_id\u001b[39m(\u001b[38;5;28mself\u001b[39m, id_):\n\u001b[0;32m    346\u001b[0m \u001b[38;5;250m    \u001b[39m\u001b[38;5;124;03m\"\"\"Finds an element by id.\u001b[39;00m\n\u001b[0;32m    347\u001b[0m \n\u001b[0;32m    348\u001b[0m \u001b[38;5;124;03m    :Args:\u001b[39;00m\n\u001b[1;32m   (...)\u001b[0m\n\u001b[0;32m    358\u001b[0m \u001b[38;5;124;03m        element = driver.find_element_by_id('foo')\u001b[39;00m\n\u001b[0;32m    359\u001b[0m \u001b[38;5;124;03m    \"\"\"\u001b[39;00m\n\u001b[1;32m--> 360\u001b[0m     \u001b[38;5;28;01mreturn\u001b[39;00m \u001b[38;5;28mself\u001b[39m\u001b[38;5;241m.\u001b[39mfind_element(by\u001b[38;5;241m=\u001b[39mBy\u001b[38;5;241m.\u001b[39mID, value\u001b[38;5;241m=\u001b[39mid_)\n",
      "File \u001b[1;32m~\\anaconda3\\Lib\\site-packages\\selenium\\webdriver\\remote\\webdriver.py:976\u001b[0m, in \u001b[0;36mWebDriver.find_element\u001b[1;34m(self, by, value)\u001b[0m\n\u001b[0;32m    974\u001b[0m         by \u001b[38;5;241m=\u001b[39m By\u001b[38;5;241m.\u001b[39mCSS_SELECTOR\n\u001b[0;32m    975\u001b[0m         value \u001b[38;5;241m=\u001b[39m \u001b[38;5;124m'\u001b[39m\u001b[38;5;124m[name=\u001b[39m\u001b[38;5;124m\"\u001b[39m\u001b[38;5;132;01m%s\u001b[39;00m\u001b[38;5;124m\"\u001b[39m\u001b[38;5;124m]\u001b[39m\u001b[38;5;124m'\u001b[39m \u001b[38;5;241m%\u001b[39m value\n\u001b[1;32m--> 976\u001b[0m \u001b[38;5;28;01mreturn\u001b[39;00m \u001b[38;5;28mself\u001b[39m\u001b[38;5;241m.\u001b[39mexecute(Command\u001b[38;5;241m.\u001b[39mFIND_ELEMENT, {\n\u001b[0;32m    977\u001b[0m     \u001b[38;5;124m'\u001b[39m\u001b[38;5;124musing\u001b[39m\u001b[38;5;124m'\u001b[39m: by,\n\u001b[0;32m    978\u001b[0m     \u001b[38;5;124m'\u001b[39m\u001b[38;5;124mvalue\u001b[39m\u001b[38;5;124m'\u001b[39m: value})[\u001b[38;5;124m'\u001b[39m\u001b[38;5;124mvalue\u001b[39m\u001b[38;5;124m'\u001b[39m]\n",
      "File \u001b[1;32m~\\anaconda3\\Lib\\site-packages\\selenium\\webdriver\\remote\\webdriver.py:321\u001b[0m, in \u001b[0;36mWebDriver.execute\u001b[1;34m(self, driver_command, params)\u001b[0m\n\u001b[0;32m    319\u001b[0m response \u001b[38;5;241m=\u001b[39m \u001b[38;5;28mself\u001b[39m\u001b[38;5;241m.\u001b[39mcommand_executor\u001b[38;5;241m.\u001b[39mexecute(driver_command, params)\n\u001b[0;32m    320\u001b[0m \u001b[38;5;28;01mif\u001b[39;00m response:\n\u001b[1;32m--> 321\u001b[0m     \u001b[38;5;28mself\u001b[39m\u001b[38;5;241m.\u001b[39merror_handler\u001b[38;5;241m.\u001b[39mcheck_response(response)\n\u001b[0;32m    322\u001b[0m     response[\u001b[38;5;124m'\u001b[39m\u001b[38;5;124mvalue\u001b[39m\u001b[38;5;124m'\u001b[39m] \u001b[38;5;241m=\u001b[39m \u001b[38;5;28mself\u001b[39m\u001b[38;5;241m.\u001b[39m_unwrap_value(\n\u001b[0;32m    323\u001b[0m         response\u001b[38;5;241m.\u001b[39mget(\u001b[38;5;124m'\u001b[39m\u001b[38;5;124mvalue\u001b[39m\u001b[38;5;124m'\u001b[39m, \u001b[38;5;28;01mNone\u001b[39;00m))\n\u001b[0;32m    324\u001b[0m     \u001b[38;5;28;01mreturn\u001b[39;00m response\n",
      "File \u001b[1;32m~\\anaconda3\\Lib\\site-packages\\selenium\\webdriver\\remote\\errorhandler.py:242\u001b[0m, in \u001b[0;36mErrorHandler.check_response\u001b[1;34m(self, response)\u001b[0m\n\u001b[0;32m    240\u001b[0m         alert_text \u001b[38;5;241m=\u001b[39m value[\u001b[38;5;124m'\u001b[39m\u001b[38;5;124malert\u001b[39m\u001b[38;5;124m'\u001b[39m]\u001b[38;5;241m.\u001b[39mget(\u001b[38;5;124m'\u001b[39m\u001b[38;5;124mtext\u001b[39m\u001b[38;5;124m'\u001b[39m)\n\u001b[0;32m    241\u001b[0m     \u001b[38;5;28;01mraise\u001b[39;00m exception_class(message, screen, stacktrace, alert_text)\n\u001b[1;32m--> 242\u001b[0m \u001b[38;5;28;01mraise\u001b[39;00m exception_class(message, screen, stacktrace)\n",
      "\u001b[1;31mNoSuchElementException\u001b[0m: Message: Unable to locate element: [id=\"formID2\"]\n"
     ]
    }
   ],
   "source": [
    "driver.find_element_by_id(\"formID2\").submit()"
   ]
  },
  {
   "cell_type": "code",
   "execution_count": 10,
   "id": "fe0f0114",
   "metadata": {},
   "outputs": [
    {
     "name": "stdout",
     "output_type": "stream",
     "text": [
      "None\n"
     ]
    }
   ],
   "source": [
    "try:\n",
    "    teacher_course_add_course = driver.find_element(By.LINK_TEXT, \"Teacher Course\").click()\n",
    "    #print(teacher_course_add_course)\n",
    "    \n",
    "except NoSuchElementException as e:\n",
    "    print(f\"Element not found: {e}\")"
   ]
  },
  {
   "cell_type": "code",
   "execution_count": 11,
   "id": "0975b0b8",
   "metadata": {},
   "outputs": [],
   "source": [
    "driver.execute_script(\"window.location.href='https://old.talhatraining.com/user/add-course';\")"
   ]
  },
  {
   "cell_type": "code",
   "execution_count": 13,
   "id": "9e824962",
   "metadata": {},
   "outputs": [],
   "source": [
    "try:\n",
    "    course_name_by_id = driver.find_element(By.ID, \"course_name\").send_keys(\"Quality Assurance and Testing\")\n",
    "    #print(course_name_by_id)\n",
    "    \n",
    "except NoSuchElementException as e:\n",
    "    print(f\"Element not found: {e}\")"
   ]
  },
  {
   "cell_type": "code",
   "execution_count": 14,
   "id": "c6b480a7",
   "metadata": {},
   "outputs": [
    {
     "name": "stdout",
     "output_type": "stream",
     "text": [
      "<selenium.webdriver.firefox.webelement.FirefoxWebElement (session=\"dda690c2-d9a7-4284-bb7c-ec11285550b2\", element=\"21724651-fdd4-46b1-972c-396cc8ad4f20\")>\n"
     ]
    }
   ],
   "source": [
    "try:\n",
    "    parent_topic_id_by_id = driver.find_element(By.ID, \"parent_topic_id\")\n",
    "    print(parent_topic_id_by_id)\n",
    "    \n",
    "except NoSuchElementException as e:\n",
    "    print(f\"Element not found: {e}\")"
   ]
  },
  {
   "cell_type": "code",
   "execution_count": 15,
   "id": "36e79297",
   "metadata": {},
   "outputs": [],
   "source": [
    "select = Select(parent_topic_id_by_id)\n",
    "select.select_by_index(3)"
   ]
  },
  {
   "cell_type": "code",
   "execution_count": 16,
   "id": "7a69da5a",
   "metadata": {},
   "outputs": [],
   "source": [
    "select = Select(parent_topic_id_by_id)\n",
    "select.select_by_visible_text('Knowledge')\n",
    "#parent_topic_id_by_id.select_by_visible_text('Knowledge')"
   ]
  },
  {
   "cell_type": "code",
   "execution_count": 17,
   "id": "5e3a7230",
   "metadata": {},
   "outputs": [],
   "source": [
    "select = Select(parent_topic_id_by_id)\n",
    "select.select_by_value('33')\n"
   ]
  },
  {
   "cell_type": "code",
   "execution_count": 18,
   "id": "a0fc18be",
   "metadata": {},
   "outputs": [
    {
     "name": "stdout",
     "output_type": "stream",
     "text": [
      "<selenium.webdriver.firefox.webelement.FirefoxWebElement (session=\"dda690c2-d9a7-4284-bb7c-ec11285550b2\", element=\"903a5378-9dbb-4eb3-a1b7-3d681e171330\")>\n"
     ]
    }
   ],
   "source": [
    "try:\n",
    "    topic_id_by_id = driver.find_element(By.ID, \"topic_id\")\n",
    "    print(topic_id_by_id)\n",
    "    \n",
    "except NoSuchElementException as e:\n",
    "    print(f\"Element not found: {e}\")"
   ]
  },
  {
   "cell_type": "code",
   "execution_count": 19,
   "id": "8bc44219",
   "metadata": {},
   "outputs": [],
   "source": [
    "select = Select(topic_id_by_id)\n",
    "select.select_by_index(2)"
   ]
  },
  {
   "cell_type": "code",
   "execution_count": 20,
   "id": "682722c5",
   "metadata": {},
   "outputs": [
    {
     "ename": "NoSuchElementException",
     "evalue": "Message: Could not locate element with visible text: Computer General Knowledge\n",
     "output_type": "error",
     "traceback": [
      "\u001b[1;31m---------------------------------------------------------------------------\u001b[0m",
      "\u001b[1;31mNoSuchElementException\u001b[0m                    Traceback (most recent call last)",
      "Cell \u001b[1;32mIn[20], line 2\u001b[0m\n\u001b[0;32m      1\u001b[0m select \u001b[38;5;241m=\u001b[39m Select(topic_id_by_id)\n\u001b[1;32m----> 2\u001b[0m select\u001b[38;5;241m.\u001b[39mselect_by_visible_text(\u001b[38;5;124m'\u001b[39m\u001b[38;5;124mComputer General Knowledge\u001b[39m\u001b[38;5;124m'\u001b[39m)\n",
      "File \u001b[1;32m~\\anaconda3\\Lib\\site-packages\\selenium\\webdriver\\support\\select.py:140\u001b[0m, in \u001b[0;36mSelect.select_by_visible_text\u001b[1;34m(self, text)\u001b[0m\n\u001b[0;32m    137\u001b[0m             matched \u001b[38;5;241m=\u001b[39m \u001b[38;5;28;01mTrue\u001b[39;00m\n\u001b[0;32m    139\u001b[0m \u001b[38;5;28;01mif\u001b[39;00m \u001b[38;5;129;01mnot\u001b[39;00m matched:\n\u001b[1;32m--> 140\u001b[0m     \u001b[38;5;28;01mraise\u001b[39;00m NoSuchElementException(\u001b[38;5;124m\"\u001b[39m\u001b[38;5;124mCould not locate element with visible text: \u001b[39m\u001b[38;5;132;01m%s\u001b[39;00m\u001b[38;5;124m\"\u001b[39m \u001b[38;5;241m%\u001b[39m text)\n",
      "\u001b[1;31mNoSuchElementException\u001b[0m: Message: Could not locate element with visible text: Computer General Knowledge\n"
     ]
    }
   ],
   "source": [
    "#select = Select(topic_id_by_id)\n",
    "#select.select_by_visible_text('Computer General Knowledge')"
   ]
  },
  {
   "cell_type": "code",
   "execution_count": 22,
   "id": "8f75f25b",
   "metadata": {},
   "outputs": [],
   "source": [
    "select = Select(topic_id_by_id)\n",
    "select.select_by_value('47')"
   ]
  },
  {
   "cell_type": "code",
   "execution_count": 23,
   "id": "d524096e",
   "metadata": {},
   "outputs": [],
   "source": [
    "try:\n",
    "    #radio_button_by_id_paid = driver.find_element(By.ID, \"paid\").click()\n",
    "    #print(radio_button_by_id_paid)\n",
    "    \n",
    "    radio_button_by_id_free = driver.find_element(By.ID, \"free\").click()\n",
    "    \n",
    "except NoSuchElementException as e:\n",
    "    print(f\"Element not found: {e}\")"
   ]
  },
  {
   "cell_type": "code",
   "execution_count": 24,
   "id": "df123d2d",
   "metadata": {},
   "outputs": [
    {
     "name": "stdout",
     "output_type": "stream",
     "text": [
      "<selenium.webdriver.firefox.webelement.FirefoxWebElement (session=\"dda690c2-d9a7-4284-bb7c-ec11285550b2\", element=\"43413c41-8442-4d09-8b47-53e3d77933b9\")>\n"
     ]
    }
   ],
   "source": [
    "try:\n",
    "    select_course_level_by_id = driver.find_element(By.ID, \"course_level\")\n",
    "    print(select_course_level_by_id)\n",
    "    \n",
    "except NoSuchElementException as e:\n",
    "    print(f\"Element not found: {e}\")"
   ]
  },
  {
   "cell_type": "code",
   "execution_count": 25,
   "id": "0d9f9210",
   "metadata": {},
   "outputs": [],
   "source": [
    "select = Select(select_course_level_by_id)\n",
    "select.select_by_index(2)"
   ]
  },
  {
   "cell_type": "code",
   "execution_count": 26,
   "id": "91a09592",
   "metadata": {},
   "outputs": [],
   "source": [
    "select = Select(select_course_level_by_id)\n",
    "select.select_by_visible_text('Basic')"
   ]
  },
  {
   "cell_type": "code",
   "execution_count": 50,
   "id": "24e64584",
   "metadata": {},
   "outputs": [],
   "source": [
    "select = Select(select_course_level_by_id)\n",
    "select.select_by_value('0')"
   ]
  },
  {
   "cell_type": "code",
   "execution_count": 27,
   "id": "70d11450",
   "metadata": {},
   "outputs": [],
   "source": [
    "try:\n",
    "    number_of_classes = driver.find_element(By.ID, \"number_of_classes\").send_keys(\"32\")\n",
    "    #print(number_of_classes)\n",
    "    \n",
    "except NoSuchElementException as e:\n",
    "    print(f\"Element not found: {e}\")"
   ]
  },
  {
   "cell_type": "code",
   "execution_count": 28,
   "id": "74d4b9cf",
   "metadata": {},
   "outputs": [],
   "source": [
    "try:\n",
    "    class_hour_per_day = driver.find_element(By.ID, \"class_hour_per_day\").send_keys(\"120\")\n",
    "    #print(class_hour_per_day)\n",
    "    \n",
    "except NoSuchElementException as e:\n",
    "    print(f\"Element not found: {e}\")"
   ]
  },
  {
   "cell_type": "code",
   "execution_count": 29,
   "id": "4910fd9f",
   "metadata": {},
   "outputs": [],
   "source": [
    "try:\n",
    "    course_start_date = driver.find_element(By.ID, \"course_start_date\").send_keys(\"2023-12-18\")\n",
    "    #print(course_start_date)\n",
    "    \n",
    "except NoSuchElementException as e:\n",
    "    print(f\"Element not found: {e}\")"
   ]
  },
  {
   "cell_type": "code",
   "execution_count": 30,
   "id": "e1c63184",
   "metadata": {},
   "outputs": [],
   "source": [
    "try:\n",
    "    class_time = driver.find_element(By.ID, \"class_time\").send_keys(\"6:00 PM\")\n",
    "    #print(class_time)\n",
    "    \n",
    "except NoSuchElementException as e:\n",
    "    print(f\"Element not found: {e}\")"
   ]
  },
  {
   "cell_type": "code",
   "execution_count": 31,
   "id": "178b1afb",
   "metadata": {},
   "outputs": [],
   "source": [
    "try:\n",
    "    last_date_of_registration = driver.find_element(By.ID, \"last_date_of_registration\").send_keys(\"2023-12-17\")\n",
    "    #print(last_date_of_registration)\n",
    "    \n",
    "except NoSuchElementException as e:\n",
    "    print(f\"Element not found: {e}\")"
   ]
  },
  {
   "cell_type": "code",
   "execution_count": 32,
   "id": "976d64e5",
   "metadata": {},
   "outputs": [],
   "source": [
    "try:\n",
    "    course_finished_date = driver.find_element(By.ID, \"course_finished_date\").send_keys(\"2024-06-18\")\n",
    "    #print(course_finished_date)\n",
    "    \n",
    "except NoSuchElementException as e:\n",
    "    print(f\"Element not found: {e}\")"
   ]
  },
  {
   "cell_type": "code",
   "execution_count": 33,
   "id": "cef7434e",
   "metadata": {},
   "outputs": [
    {
     "name": "stdout",
     "output_type": "stream",
     "text": [
      "<selenium.webdriver.firefox.webelement.FirefoxWebElement (session=\"dda690c2-d9a7-4284-bb7c-ec11285550b2\", element=\"c29678bc-243e-49ab-899f-194801b73ddb\")>\n"
     ]
    }
   ],
   "source": [
    "try:\n",
    "    select_radio_button_yes = driver.find_element(By.ID, \"Yes\")\n",
    "    print(select_radio_button_yes)\n",
    "    \n",
    "except NoSuchElementException as e:\n",
    "    print(f\"Element not found: {e}\")"
   ]
  },
  {
   "cell_type": "code",
   "execution_count": 34,
   "id": "e07cd713",
   "metadata": {},
   "outputs": [],
   "source": [
    "select_radio_button_yes.click()"
   ]
  },
  {
   "cell_type": "code",
   "execution_count": 35,
   "id": "c4205a46",
   "metadata": {},
   "outputs": [
    {
     "name": "stdout",
     "output_type": "stream",
     "text": [
      "<selenium.webdriver.firefox.webelement.FirefoxWebElement (session=\"dda690c2-d9a7-4284-bb7c-ec11285550b2\", element=\"11cc51d3-26bc-495b-b0ab-5038e61a9935\")>\n"
     ]
    }
   ],
   "source": [
    "try:\n",
    "    course_days1 = driver.find_element(By.ID, \"course_days1\")\n",
    "    print(course_days1)\n",
    "    \n",
    "except NoSuchElementException as e:\n",
    "    print(f\"Element not found: {e}\")"
   ]
  },
  {
   "cell_type": "code",
   "execution_count": 36,
   "id": "24ab0e20",
   "metadata": {},
   "outputs": [],
   "source": [
    "course_days1.click()"
   ]
  },
  {
   "cell_type": "code",
   "execution_count": 37,
   "id": "c841a6ab",
   "metadata": {},
   "outputs": [
    {
     "name": "stdout",
     "output_type": "stream",
     "text": [
      "<selenium.webdriver.firefox.webelement.FirefoxWebElement (session=\"dda690c2-d9a7-4284-bb7c-ec11285550b2\", element=\"1a443322-c27b-4b2d-a7c4-4db57e12639e\")>\n"
     ]
    }
   ],
   "source": [
    "try:\n",
    "    course_language = driver.find_element(By.ID, \"course_language\")\n",
    "    print(course_language)\n",
    "    \n",
    "except NoSuchElementException as e:\n",
    "    print(f\"Element not found: {e}\")"
   ]
  },
  {
   "cell_type": "code",
   "execution_count": 38,
   "id": "cc1223ac",
   "metadata": {},
   "outputs": [],
   "source": [
    "select = Select(course_language)\n",
    "select.select_by_index(2)"
   ]
  },
  {
   "cell_type": "code",
   "execution_count": 39,
   "id": "ab596dee",
   "metadata": {},
   "outputs": [
    {
     "name": "stdout",
     "output_type": "stream",
     "text": [
      "<selenium.webdriver.firefox.webelement.FirefoxWebElement (session=\"dda690c2-d9a7-4284-bb7c-ec11285550b2\", element=\"8dcf4144-413a-44c7-817f-400f8d98d041\")>\n"
     ]
    }
   ],
   "source": [
    "try:\n",
    "    course_access_level = driver.find_element(By.ID, \"course_access_level\")\n",
    "    print(course_access_level)\n",
    "    \n",
    "except NoSuchElementException as e:\n",
    "    print(f\"Element not found: {e}\")"
   ]
  },
  {
   "cell_type": "code",
   "execution_count": 40,
   "id": "68548bcb",
   "metadata": {},
   "outputs": [],
   "source": [
    "select = Select(course_access_level)\n",
    "select.select_by_index(2)"
   ]
  },
  {
   "cell_type": "code",
   "execution_count": 41,
   "id": "618a1a85",
   "metadata": {},
   "outputs": [
    {
     "name": "stdout",
     "output_type": "stream",
     "text": [
      "<selenium.webdriver.firefox.webelement.FirefoxWebElement (session=\"dda690c2-d9a7-4284-bb7c-ec11285550b2\", element=\"43413c41-8442-4d09-8b47-53e3d77933b9\")>\n"
     ]
    }
   ],
   "source": [
    "try:\n",
    "    select_course_level_by_id = driver.find_element(By.ID, \"course_level\")\n",
    "    print(select_course_level_by_id)\n",
    "    \n",
    "except NoSuchElementException as e:\n",
    "    print(f\"Element not found: {e}\")"
   ]
  },
  {
   "cell_type": "code",
   "execution_count": null,
   "id": "d8162900",
   "metadata": {},
   "outputs": [],
   "source": [
    "try:\n",
    "    select_course_level_by_id = driver.find_element(By.ID, \"course_level\")\n",
    "    print(select_course_level_by_id)\n",
    "    \n",
    "except NoSuchElementException as e:\n",
    "    print(f\"Element not found: {e}\")"
   ]
  },
  {
   "cell_type": "code",
   "execution_count": 42,
   "id": "7b16d35c",
   "metadata": {},
   "outputs": [
    {
     "name": "stdout",
     "output_type": "stream",
     "text": [
      "<selenium.webdriver.firefox.webelement.FirefoxWebElement (session=\"dda690c2-d9a7-4284-bb7c-ec11285550b2\", element=\"d7e12efe-8f10-49c9-88c0-0739f3425d40\")>\n"
     ]
    }
   ],
   "source": [
    "try:\n",
    "    add_course = driver.find_element(By.NAME, \"add_course\")\n",
    "    print(add_course)\n",
    "    \n",
    "except NoSuchElementException as e:\n",
    "    print(f\"Element not found: {e}\")"
   ]
  },
  {
   "cell_type": "code",
   "execution_count": 43,
   "id": "438f26a9",
   "metadata": {},
   "outputs": [],
   "source": [
    "add_course.click()"
   ]
  },
  {
   "cell_type": "code",
   "execution_count": 44,
   "id": "2be70f37",
   "metadata": {},
   "outputs": [],
   "source": [
    "driver.close() "
   ]
  },
  {
   "cell_type": "code",
   "execution_count": null,
   "id": "394c8bbe",
   "metadata": {},
   "outputs": [],
   "source": []
  }
 ],
 "metadata": {
  "kernelspec": {
   "display_name": "Python 3 (ipykernel)",
   "language": "python",
   "name": "python3"
  },
  "language_info": {
   "codemirror_mode": {
    "name": "ipython",
    "version": 3
   },
   "file_extension": ".py",
   "mimetype": "text/x-python",
   "name": "python",
   "nbconvert_exporter": "python",
   "pygments_lexer": "ipython3",
   "version": "3.11.4"
  }
 },
 "nbformat": 4,
 "nbformat_minor": 5
}
