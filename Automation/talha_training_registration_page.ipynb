{
 "cells": [
  {
   "cell_type": "code",
   "execution_count": 1,
   "id": "be1fe4f4",
   "metadata": {},
   "outputs": [],
   "source": [
    "from selenium import webdriver\n",
    "import time\n",
    "from selenium.webdriver.common.keys import Keys\n",
    "from selenium.webdriver.common.by import By\n",
    "from selenium.webdriver.chrome.service import Service\n",
    "from selenium.common.exceptions import NoSuchElementException\n",
    "from selenium.webdriver.common.action_chains import ActionChains\n",
    "\n",
    "#initialize Firefox\n",
    "driver = webdriver.Firefox(executable_path = 'C:\\\\webdrive\\\\geckodriver.exe')"
   ]
  },
  {
   "cell_type": "code",
   "execution_count": 2,
   "id": "6205c59a",
   "metadata": {},
   "outputs": [],
   "source": [
    "# open website\n",
    "driver.get('https://talhatraining.com/')"
   ]
  },
  {
   "cell_type": "code",
   "execution_count": 5,
   "id": "d768c3f0",
   "metadata": {
    "scrolled": true
   },
   "outputs": [
    {
     "name": "stdout",
     "output_type": "stream",
     "text": [
      "<selenium.webdriver.firefox.webelement.FirefoxWebElement (session=\"37d3d267-b83d-4c5d-bd0c-39d905a113e3\", element=\"c0c1463e-664f-4dbe-aa55-76d56a45f21f\")>\n"
     ]
    }
   ],
   "source": [
    "# Locate an element by Link Text Login\n",
    "try:\n",
    "    element_by_link_login_text = driver.find_element(By.LINK_TEXT, \"Login\") \n",
    "    print(element_by_link_login_text)\n",
    "    \n",
    "except NoSuchElementException as e:\n",
    "    print(f\"Element not found: {e}\")  "
   ]
  },
  {
   "cell_type": "code",
   "execution_count": 6,
   "id": "a0604187",
   "metadata": {},
   "outputs": [],
   "source": [
    "# Locate an element by Link Text Login\n",
    "try:\n",
    "    element_by_link_login_text = driver.find_element(By.LINK_TEXT, \"Login\").click() \n",
    "        \n",
    "except NoSuchElementException as e:\n",
    "    print(f\"Element not found: {e}\")  "
   ]
  },
  {
   "cell_type": "code",
   "execution_count": 7,
   "id": "114091ca",
   "metadata": {},
   "outputs": [],
   "source": [
    "# Locate an element by Link Text Register now\n",
    "try:\n",
    "    element_by_link_register_now = driver.find_element(By.LINK_TEXT, \"Register now\").click() \n",
    "        \n",
    "except NoSuchElementException as e:\n",
    "    print(f\"Element not found: {e}\")  "
   ]
  },
  {
   "cell_type": "code",
   "execution_count": 8,
   "id": "54313c38",
   "metadata": {},
   "outputs": [
    {
     "name": "stdout",
     "output_type": "stream",
     "text": [
      "<selenium.webdriver.firefox.webelement.FirefoxWebElement (session=\"37d3d267-b83d-4c5d-bd0c-39d905a113e3\", element=\"bfa505ab-3e1c-408c-b9e6-dc12e3561830\")>\n"
     ]
    }
   ],
   "source": [
    "#locate an element by NAME username\n",
    "try:\n",
    "    element_by_name_username = driver.find_element(By.NAME, \"user_login\")\n",
    "    print(element_by_name_username)\n",
    "\n",
    "except NoSuchELementException as e:\n",
    "    print(f\"Element not found: {e}\")"
   ]
  },
  {
   "cell_type": "code",
   "execution_count": 9,
   "id": "f7cc4c15",
   "metadata": {},
   "outputs": [],
   "source": [
    "#locate an element by NAME username\n",
    "try:\n",
    "    element_by_name_username = driver.find_element(By.NAME, \"user_login\").send_keys(\"Mona Miami\")\n",
    "\n",
    "except NoSuchELementException as e:\n",
    "    print(f\"Element not found: {e}\")"
   ]
  },
  {
   "cell_type": "code",
   "execution_count": 10,
   "id": "de300d18",
   "metadata": {},
   "outputs": [
    {
     "name": "stdout",
     "output_type": "stream",
     "text": [
      "<selenium.webdriver.firefox.webelement.FirefoxWebElement (session=\"37d3d267-b83d-4c5d-bd0c-39d905a113e3\", element=\"71b5dd0f-eaac-4865-b742-9e6984432e6d\")>\n"
     ]
    }
   ],
   "source": [
    "#locate an element by Name-Email\n",
    "try:\n",
    "    element_by_name_email = driver.find_element(By.NAME, \"user_email\")\n",
    "    print(element_by_name_email)\n",
    "    \n",
    "except NoSuchElementException as e:\n",
    "    print(f\"Element not found: {e}\")"
   ]
  },
  {
   "cell_type": "code",
   "execution_count": 11,
   "id": "1e19e7d8",
   "metadata": {},
   "outputs": [],
   "source": [
    "#locate an element by Name-Email\n",
    "try:\n",
    "    element_by_name_email = driver.find_element(By.NAME, \"user_email\").send_keys(\"monamiami65@gmail.com\")\n",
    "    \n",
    "except NoSuchElementException as e:\n",
    "    print(f\"Element not found: {e}\")"
   ]
  },
  {
   "cell_type": "code",
   "execution_count": 12,
   "id": "aada6c32",
   "metadata": {},
   "outputs": [
    {
     "name": "stdout",
     "output_type": "stream",
     "text": [
      "<selenium.webdriver.firefox.webelement.FirefoxWebElement (session=\"37d3d267-b83d-4c5d-bd0c-39d905a113e3\", element=\"13ef9454-278b-4317-ace1-49d8eb7cba10\")>\n"
     ]
    }
   ],
   "source": [
    "#locate an element by Name-Password\n",
    "try:\n",
    "    element_by_name_password = driver.find_element(By.NAME, \"password\")\n",
    "    print(element_by_name_password)\n",
    "    \n",
    "except NoSuchElementException as e:\n",
    "    print(f\"Element not found: {e}\")"
   ]
  },
  {
   "cell_type": "code",
   "execution_count": 13,
   "id": "4858dee4",
   "metadata": {},
   "outputs": [],
   "source": [
    "#locate an element by Name-Password\n",
    "try:\n",
    "    element_by_name_password = driver.find_element(By.NAME, \"password\").send_keys(\"Whoismona3*\")\n",
    "    \n",
    "except NoSuchElementException as e:\n",
    "    print(f\"Element not found: {e}\")"
   ]
  },
  {
   "cell_type": "code",
   "execution_count": 14,
   "id": "985498e2",
   "metadata": {},
   "outputs": [
    {
     "name": "stdout",
     "output_type": "stream",
     "text": [
      "<selenium.webdriver.firefox.webelement.FirefoxWebElement (session=\"37d3d267-b83d-4c5d-bd0c-39d905a113e3\", element=\"b36706c0-0e17-49fe-abe9-49c1fc106412\")>\n"
     ]
    }
   ],
   "source": [
    "#locate an element by Name-Repeat Password\n",
    "try:\n",
    "    element_by_name_repeat_password = driver.find_element(By.NAME, \"repeat_password\")\n",
    "    print(element_by_name_repeat_password)\n",
    "    \n",
    "except NoSuchElementException as e:\n",
    "    print(f\"Element not found: {e}\")"
   ]
  },
  {
   "cell_type": "code",
   "execution_count": 15,
   "id": "2c3f0525",
   "metadata": {},
   "outputs": [],
   "source": [
    "#locate an element by Name-Repeat Password\n",
    "try:\n",
    "    element_by_name_repeat_password = driver.find_element(By.NAME, \"repeat_password\").send_keys(\"Whoismona3*\")\n",
    "    \n",
    "except NoSuchElementException as e:\n",
    "    print(f\"Element not found: {e}\")"
   ]
  },
  {
   "cell_type": "code",
   "execution_count": 16,
   "id": "d7dd30db",
   "metadata": {},
   "outputs": [
    {
     "name": "stdout",
     "output_type": "stream",
     "text": [
      "<selenium.webdriver.firefox.webelement.FirefoxWebElement (session=\"37d3d267-b83d-4c5d-bd0c-39d905a113e3\", element=\"fe6b336a-0c2d-475d-a182-3a8a48285613\")>\n"
     ]
    }
   ],
   "source": [
    "#locate an element by NAME-become an instructor?\n",
    "try: \n",
    "    element_by_name_become_instructor = driver.find_element(By.NAME, \"become_teacher\")\n",
    "    print(element_by_name_become_instructor)\n",
    "    \n",
    "except NoSuchElementException as e:\n",
    "    print(f\"Element not found: {e}\")"
   ]
  },
  {
   "cell_type": "code",
   "execution_count": 17,
   "id": "6b438f03",
   "metadata": {},
   "outputs": [],
   "source": [
    "#locate an element by NAME-become an instructor?\n",
    "try: \n",
    "    element_by_name_become_instructor = driver.find_element(By.NAME, \"become_teacher\").click()\n",
    "    \n",
    "except NoSuchElementException as e:\n",
    "    print(f\"Element not found: {e}\")"
   ]
  },
  {
   "cell_type": "code",
   "execution_count": 18,
   "id": "140f8ee3",
   "metadata": {},
   "outputs": [
    {
     "name": "stdout",
     "output_type": "stream",
     "text": [
      "<selenium.webdriver.firefox.webelement.FirefoxWebElement (session=\"37d3d267-b83d-4c5d-bd0c-39d905a113e3\", element=\"6ae63183-5ddc-4d56-bbac-5ad1284d2d2c\")>\n"
     ]
    }
   ],
   "source": [
    "#locate an element by NAME-accept terms\n",
    "try: \n",
    "    element_by_name_accept_terms = driver.find_element(By.NAME, \"term\")\n",
    "    print(element_by_name_accept_terms)\n",
    "    \n",
    "except NoSuchElementException as e:\n",
    "    print(f\"Element not found: {e}\")"
   ]
  },
  {
   "cell_type": "code",
   "execution_count": 19,
   "id": "fce16cf0",
   "metadata": {},
   "outputs": [],
   "source": [
    "#locate an element by NAME-accept terms\n",
    "try: \n",
    "    element_by_name_accept_terms = driver.find_element(By.NAME, \"term\").click()\n",
    "    \n",
    "except NoSuchElementException as e:\n",
    "    print(f\"Element not found: {e}\")"
   ]
  },
  {
   "cell_type": "code",
   "execution_count": 20,
   "id": "307a239a",
   "metadata": {},
   "outputs": [
    {
     "name": "stdout",
     "output_type": "stream",
     "text": [
      "<selenium.webdriver.firefox.webelement.FirefoxWebElement (session=\"37d3d267-b83d-4c5d-bd0c-39d905a113e3\", element=\"6756b47a-2fa4-4ad4-a9c4-ebd83e76f720\")>\n"
     ]
    }
   ],
   "source": [
    "#locate an element by NAME-signup button\n",
    "try: \n",
    "    element_by_name_signup_button = driver.find_element(By.NAME, \"wp-submit\")\n",
    "    print(element_by_name_signup_button)\n",
    "    \n",
    "except NoSuchElementException as e:\n",
    "    print(f\"Element not found: {e}\")"
   ]
  },
  {
   "cell_type": "code",
   "execution_count": 21,
   "id": "23c335bb",
   "metadata": {},
   "outputs": [],
   "source": [
    "# Locate an element by Name signup button\n",
    "#try:\n",
    "#    element_by_name_signup_button = driver.find_element(By.NAME, \"wp-submit\").click() \n",
    "    \n",
    "#except NoSuchElementException as e:\n",
    "#    print(f\"Element not found: {e}\") \n",
    "\n",
    "action = ActionChains(driver)\n",
    "action.click(on_element = element_by_name_signup_button)\n",
    "action.perform()"
   ]
  },
  {
   "cell_type": "code",
   "execution_count": null,
   "id": "4373a5e8",
   "metadata": {},
   "outputs": [],
   "source": []
  },
  {
   "cell_type": "code",
   "execution_count": 22,
   "id": "b789f49e",
   "metadata": {},
   "outputs": [
    {
     "name": "stdout",
     "output_type": "stream",
     "text": [
      "<selenium.webdriver.firefox.webelement.FirefoxWebElement (session=\"37d3d267-b83d-4c5d-bd0c-39d905a113e3\", element=\"c0c1463e-664f-4dbe-aa55-76d56a45f21f\")>\n"
     ]
    }
   ],
   "source": [
    "# Locate an element by Link Text Login\n",
    "try:\n",
    "    element_by_link_login_text = driver.find_element(By.LINK_TEXT, \"Login\") \n",
    "    print(element_by_link_login_text)\n",
    "    \n",
    "except NoSuchElementException as e:\n",
    "    print(f\"Element not found: {e}\")  "
   ]
  },
  {
   "cell_type": "code",
   "execution_count": 23,
   "id": "edcb8fe0",
   "metadata": {},
   "outputs": [],
   "source": [
    "# Locate an element by Link Text Login\n",
    "try:\n",
    "    element_by_link_login_text = driver.find_element(By.LINK_TEXT, \"Login\").click() \n",
    "        \n",
    "except NoSuchElementException as e:\n",
    "    print(f\"Element not found: {e}\")  "
   ]
  },
  {
   "cell_type": "code",
   "execution_count": 24,
   "id": "3596c5ec",
   "metadata": {},
   "outputs": [
    {
     "name": "stdout",
     "output_type": "stream",
     "text": [
      "<selenium.webdriver.firefox.webelement.FirefoxWebElement (session=\"37d3d267-b83d-4c5d-bd0c-39d905a113e3\", element=\"89decf71-7034-4639-9744-4fad71b8a00c\")>\n"
     ]
    }
   ],
   "source": [
    "# Locate an element by Name Username/Email\n",
    "try:\n",
    "    element_by_name_usernameOrEmail = driver.find_element(By.NAME, \"log\") \n",
    "    print(element_by_name_usernameOrEmail)\n",
    "    \n",
    "except NoSuchElementException as e:\n",
    "    print(f\"Element not found: {e}\")  "
   ]
  },
  {
   "cell_type": "code",
   "execution_count": 25,
   "id": "e2ce62f4",
   "metadata": {},
   "outputs": [],
   "source": [
    "# Locate an element by Name Username/Email\n",
    "try:\n",
    "    element_by_name_usernameOrEmail = driver.find_element(By.NAME, \"log\").send_keys(\"monamiami65@gmail.com\")     \n",
    "    \n",
    "except NoSuchElementException as e:\n",
    "    print(f\"Element not found: {e}\")  "
   ]
  },
  {
   "cell_type": "code",
   "execution_count": 26,
   "id": "220ad136",
   "metadata": {},
   "outputs": [
    {
     "name": "stdout",
     "output_type": "stream",
     "text": [
      "<selenium.webdriver.firefox.webelement.FirefoxWebElement (session=\"37d3d267-b83d-4c5d-bd0c-39d905a113e3\", element=\"875e18f1-4909-4095-93c4-37aeb6c6e42e\")>\n"
     ]
    }
   ],
   "source": [
    "# Locate an element by Name LoginPassword\n",
    "try:\n",
    "    element_by_name_loginPassword = driver.find_element(By.NAME, \"pwd\") \n",
    "    print(element_by_name_loginPassword)\n",
    "    \n",
    "except NoSuchElementException as e:\n",
    "    print(f\"Element not found: {e}\")  "
   ]
  },
  {
   "cell_type": "code",
   "execution_count": 27,
   "id": "4154209c",
   "metadata": {},
   "outputs": [],
   "source": [
    "# Locate an element by Name login Password\n",
    "try:\n",
    "    element_by_name_loginPassword = driver.find_element(By.NAME, \"pwd\").send_keys(\"Whoismona3*\")       \n",
    "    \n",
    "except NoSuchElementException as e:\n",
    "    print(f\"Element not found: {e}\")  "
   ]
  },
  {
   "cell_type": "code",
   "execution_count": 28,
   "id": "0ca9e05a",
   "metadata": {},
   "outputs": [
    {
     "name": "stdout",
     "output_type": "stream",
     "text": [
      "<selenium.webdriver.firefox.webelement.FirefoxWebElement (session=\"37d3d267-b83d-4c5d-bd0c-39d905a113e3\", element=\"c60d248e-7383-4ebb-b3f3-a807d8b93d6c\")>\n"
     ]
    }
   ],
   "source": [
    "# Locate an element by Name login Remember Me\n",
    "try:\n",
    "    element_by_name_loginRememberme = driver.find_element(By.NAME, \"rememberme\") \n",
    "    print(element_by_name_loginRememberme)\n",
    "    \n",
    "except NoSuchElementException as e:\n",
    "    print(f\"Element not found: {e}\")"
   ]
  },
  {
   "cell_type": "code",
   "execution_count": 29,
   "id": "e6eb858b",
   "metadata": {},
   "outputs": [],
   "source": [
    "# Locate an element by Name login Remenber Me\n",
    "try:\n",
    "    element_by_name_loginRememberme = driver.find_element(By.NAME, \"rememberme\").click() \n",
    "      \n",
    "except NoSuchElementException as e:\n",
    "    print(f\"Element not found: {e}\")  "
   ]
  },
  {
   "cell_type": "code",
   "execution_count": 30,
   "id": "8df4b569",
   "metadata": {},
   "outputs": [
    {
     "name": "stdout",
     "output_type": "stream",
     "text": [
      "<selenium.webdriver.firefox.webelement.FirefoxWebElement (session=\"37d3d267-b83d-4c5d-bd0c-39d905a113e3\", element=\"6756b47a-2fa4-4ad4-a9c4-ebd83e76f720\")>\n"
     ]
    }
   ],
   "source": [
    "# Locate an element by Name Button Login\n",
    "try:\n",
    "    element_by_name_login_button = driver.find_element(By.NAME, \"wp-submit\") \n",
    "    print(element_by_name_login_button)\n",
    "    \n",
    "except NoSuchElementException as e:\n",
    "    print(f\"Element not found: {e}\")  "
   ]
  },
  {
   "cell_type": "code",
   "execution_count": 31,
   "id": "56c49bd5",
   "metadata": {},
   "outputs": [],
   "source": [
    "# Locate an element by Name Button Login\n",
    "try:\n",
    "    element_by_name_login_button = driver.find_element(By.NAME, \"wp-submit\").click() \n",
    "    \n",
    "except NoSuchElementException as e:\n",
    "    print(f\"Element not found: {e}\")  "
   ]
  },
  {
   "cell_type": "code",
   "execution_count": null,
   "id": "3655eb39",
   "metadata": {},
   "outputs": [],
   "source": []
  },
  {
   "cell_type": "code",
   "execution_count": 32,
   "id": "2be70f37",
   "metadata": {},
   "outputs": [],
   "source": [
    "driver.close()  "
   ]
  },
  {
   "cell_type": "code",
   "execution_count": null,
   "id": "35831c17",
   "metadata": {},
   "outputs": [],
   "source": []
  }
 ],
 "metadata": {
  "kernelspec": {
   "display_name": "Python 3 (ipykernel)",
   "language": "python",
   "name": "python3"
  },
  "language_info": {
   "codemirror_mode": {
    "name": "ipython",
    "version": 3
   },
   "file_extension": ".py",
   "mimetype": "text/x-python",
   "name": "python",
   "nbconvert_exporter": "python",
   "pygments_lexer": "ipython3",
   "version": "3.11.4"
  }
 },
 "nbformat": 4,
 "nbformat_minor": 5
}
