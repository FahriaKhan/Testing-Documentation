{
 "cells": [
  {
   "cell_type": "code",
   "execution_count": 17,
   "id": "b079b9d3",
   "metadata": {},
   "outputs": [],
   "source": [
    "from selenium import webdriver\n",
    "import time\n",
    "from selenium.webdriver.common.keys import Keys\n",
    "from selenium.webdriver.common.by import By\n",
    "from selenium.webdriver.chrome.service import Service\n",
    "from selenium.common.exceptions import NoSuchElementException\n",
    "\n",
    "#initialize Firefox\n",
    "driver = webdriver.Firefox(executable_path = 'C:\\\\webdrive\\\\geckodriver.exe')"
   ]
  },
  {
   "cell_type": "code",
   "execution_count": 10,
   "id": "8176e76b",
   "metadata": {},
   "outputs": [],
   "source": [
    "#open website\n",
    "driver.get('https://talhatraining.com/')"
   ]
  },
  {
   "cell_type": "code",
   "execution_count": 11,
   "id": "9e44cf89",
   "metadata": {},
   "outputs": [
    {
     "name": "stdout",
     "output_type": "stream",
     "text": [
      "<selenium.webdriver.firefox.webelement.FirefoxWebElement (session=\"40236802-21cd-4ddf-9f6d-599ba2cd85c9\", element=\"82d90db5-a3a6-4814-bfed-36756eeca580\")>\n"
     ]
    }
   ],
   "source": [
    "#locate an element by Link Text Login\n",
    "try:\n",
    "    element_by_link_login_text = driver.find_element(By.LINK_TEXT, \"Login\")\n",
    "    print(element_by_link_login_text)\n",
    "    \n",
    "except NoSuchElementException as e:\n",
    "    print(f\"Element not found: {e}\")"
   ]
  },
  {
   "cell_type": "code",
   "execution_count": 12,
   "id": "fdb3ca21",
   "metadata": {},
   "outputs": [
    {
     "name": "stdout",
     "output_type": "stream",
     "text": [
      "None\n"
     ]
    }
   ],
   "source": [
    "#locate an element by Link Text Login\n",
    "try:\n",
    "    element_by_link_login_text = driver.find_element(By.LINK_TEXT, \"Login\").click()\n",
    "    print(element_by_link_login_text)\n",
    "    \n",
    "except NoSuchElementException as e:\n",
    "    print(f\"Element not found: {e}\")"
   ]
  },
  {
   "cell_type": "code",
   "execution_count": 14,
   "id": "84fe5c24",
   "metadata": {},
   "outputs": [],
   "source": [
    "#locate an element by name Username\n",
    "try:\n",
    "    element_by_name_username = driver.find_element(By.NAME, \"log\")\n",
    "    \n",
    "except NoSuchElementException as e:\n",
    "    print(f\"Element not found: {e}\")"
   ]
  },
  {
   "cell_type": "code",
   "execution_count": 15,
   "id": "e91f2015",
   "metadata": {},
   "outputs": [],
   "source": [
    "#locate an element by name Username\n",
    "try:\n",
    "    element_by_name_username = driver.find_element(By.NAME, \"log\").send_keys(\"khanfahriaedu@gmail.com\")\n",
    "    \n",
    "except NoSuchElementException as e:\n",
    "    print(f\"Element not found: {e}\")"
   ]
  },
  {
   "cell_type": "code",
   "execution_count": null,
   "id": "e922c35e",
   "metadata": {},
   "outputs": [],
   "source": []
  },
  {
   "cell_type": "code",
   "execution_count": null,
   "id": "f4dd48ee",
   "metadata": {},
   "outputs": [],
   "source": []
  },
  {
   "cell_type": "code",
   "execution_count": null,
   "id": "41e9fc91",
   "metadata": {},
   "outputs": [],
   "source": []
  },
  {
   "cell_type": "code",
   "execution_count": null,
   "id": "c596b7f9",
   "metadata": {},
   "outputs": [],
   "source": []
  },
  {
   "cell_type": "code",
   "execution_count": null,
   "id": "0660d201",
   "metadata": {},
   "outputs": [],
   "source": []
  },
  {
   "cell_type": "code",
   "execution_count": 18,
   "id": "b01239d1",
   "metadata": {},
   "outputs": [],
   "source": [
    "driver.close()"
   ]
  },
  {
   "cell_type": "code",
   "execution_count": null,
   "id": "07b0c46f",
   "metadata": {},
   "outputs": [],
   "source": []
  }
 ],
 "metadata": {
  "kernelspec": {
   "display_name": "Python 3 (ipykernel)",
   "language": "python",
   "name": "python3"
  },
  "language_info": {
   "codemirror_mode": {
    "name": "ipython",
    "version": 3
   },
   "file_extension": ".py",
   "mimetype": "text/x-python",
   "name": "python",
   "nbconvert_exporter": "python",
   "pygments_lexer": "ipython3",
   "version": "3.11.4"
  }
 },
 "nbformat": 4,
 "nbformat_minor": 5
}
